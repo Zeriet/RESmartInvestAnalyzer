{
 "cells": [
  {
   "cell_type": "code",
   "execution_count": 28,
   "metadata": {},
   "outputs": [],
   "source": [
    "price = 120000\n",
    "down_pct = 25\n",
    "loan_pct = 5\n",
    "\n",
    "# below are monthly\n",
    "rent = 1500\n",
    "prop_tax = 100\n",
    "insurance = 80\n",
    "prop_mgmt = 10 # pct of monthly rent\n",
    "closing_cost = 3000\n",
    "rehab_cost = 1000\n"
   ]
  },
  {
   "cell_type": "code",
   "execution_count": 29,
   "metadata": {},
   "outputs": [],
   "source": [
    "def down_pmnt_calc(price, down_pct):\n",
    "    return (down_pct / 100 * price)\n",
    "def mortgage_monthly_calc(price, years,loan_percent, down_pmt):\n",
    "    \n",
    "    r = (loan_percent/ 12)/100\n",
    "    n = years * 12\n",
    "    # using https://www.wikihow.com/Calculate-Mortgage-Payments\n",
    "    mortgage_monthly = price * r * ((1 + r) ** n) / (((1 + r) ** n) - 1)\n",
    "    print('Monthly mortgage: ' + str(round(mortgage_monthly)))\n",
    "    return mortgage_monthly\n",
    "\n",
    "def net_opertaing_income(monthly_rent, mortgage_monthly, prop_tax, prop_mgmt_pct, prop_repairs_pct, capex_pct, vacancy_pct, insurance_monthly):\n",
    "    \n",
    "    # NOI is calculated for monthly\n",
    "    capex = capex_pct /100 * monthly_rent\n",
    "    prop_repairs = prop_repairs_pct /100 * monthly_rent\n",
    "    vacancy = vacancy_pct / 100 * monthly_rent\n",
    "    prop_mgmt = prop_mgmt_pct / 100 * monthly_rent\n",
    "    \n",
    "    total_expenses = mortgage_monthly + capex + prop_repairs + vacancy + prop_mgmt + prop_tax + insurance_monthly\n",
    "    print('Total monthly expenses: ' + str(round(total_expenses)))\n",
    "    net_profit = monthly_rent - total_expenses     \n",
    "    return net_profit\n",
    "\n",
    "def cash_on_cash(down_pmt, closing_cost, rehab_cost, cash_flow_monthly):\n",
    "    total_investment = down_pmt + closing_cost + rehab_cost\n",
    "    annual_cash_flow = cash_flow_monthly * 12\n",
    "    cocr = (annual_cash_flow / total_investment) * 100\n",
    "    return round(cocr, 2)\n",
    "\n",
    "def cap_rate(monthly_cash_ret, price):\n",
    "    #Cap Rate = Net Operating Income (NOI) / Current Market Value\n",
    "    cap_rate = ((monthly_cash_ret * 12) / price) * 100\n",
    "    return round(cap_rate, 2)"
   ]
  },
  {
   "cell_type": "code",
   "execution_count": 30,
   "metadata": {},
   "outputs": [
    {
     "name": "stdout",
     "output_type": "stream",
     "text": [
      "Monthly mortgage: 644\n",
      "Total monthly expenses: 1219\n",
      "Monthly cash flow: 281\n",
      "CoCR: 9.91\n",
      "Cap Rate: 2.81\n"
     ]
    }
   ],
   "source": [
    "down_pmt = down_pmnt_calc(price, down_pct)\n",
    "mortgage_monthly = mortgage_monthly_calc(price, years,loan_percent, down_pmt)\n",
    "cash_flow_monthly = net_opertaing_income(monthly_rent, mortgage_monthly, prop_tax, prop_mgmt_pct, prop_repairs, capex, vacancy_pct, insurance_monthly)\n",
    "print('Monthly cash flow: ' + str(round(cash_flow_monthly)))\n",
    "cocr = cash_on_cash(down_pmt, closing_cost, rehab_cost, cash_flow_monthly)\n",
    "print('CoCR: ' + str(cocr))\n",
    "cap_return = cap_rate(cash_flow_monthly,price)\n",
    "print('Cap Rate: ' + str(cap_return))"
   ]
  },
  {
   "cell_type": "code",
   "execution_count": null,
   "metadata": {},
   "outputs": [],
   "source": []
  }
 ],
 "metadata": {
  "kernelspec": {
   "display_name": "Python 3",
   "language": "python",
   "name": "python3"
  },
  "language_info": {
   "codemirror_mode": {
    "name": "ipython",
    "version": 3
   },
   "file_extension": ".py",
   "mimetype": "text/x-python",
   "name": "python",
   "nbconvert_exporter": "python",
   "pygments_lexer": "ipython3",
   "version": "3.7.6"
  }
 },
 "nbformat": 4,
 "nbformat_minor": 4
}
