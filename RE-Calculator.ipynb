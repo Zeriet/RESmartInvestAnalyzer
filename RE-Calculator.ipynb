{
 "cells": [
  {
   "cell_type": "code",
   "execution_count": null,
   "metadata": {},
   "outputs": [],
   "source": [
    "down_pmt = down_payment_cal(price, down_percent)\n",
    "mortgage_monthly = mortgage_monthly_calc(price, years,loan_percent, down_pmt)\n",
    "result = net_operating(monthly_rent, mortgage_monthly, prop_tax, price, prop_mgmt_pct, prop_repairs, capex, vacancy_pct, insurance_monthly)\n",
    "print(result)\n",
    "cash_flow_monthly = result[5]\n",
    "prop_tax_monthly = result[1]\n",
    "print('Monthly cash flow: ' + str(cash_flow_monthly))\n",
    "cocr = cash_on_cash(down_pmt, closing_cost, rehab_cost, cash_flow_monthly)\n",
    "print('CoCR: ' + str(cocr))\n",
    "cap_return = cap_rate(cash_flow_monthly,price)\n",
    "print('Cap Rate: ' + str(cap_return))"
   ]
  }
 ],
 "metadata": {
  "kernelspec": {
   "display_name": "Python 3",
   "language": "python",
   "name": "python3"
  },
  "language_info": {
   "codemirror_mode": {
    "name": "ipython",
    "version": 3
   },
   "file_extension": ".py",
   "mimetype": "text/x-python",
   "name": "python",
   "nbconvert_exporter": "python",
   "pygments_lexer": "ipython3",
   "version": "3.7.6"
  }
 },
 "nbformat": 4,
 "nbformat_minor": 4
}
